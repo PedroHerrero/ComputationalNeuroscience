{
 "cells": [
  {
   "cell_type": "markdown",
   "metadata": {},
   "source": [
    "# Kinetic model of a synapse\n",
    "\n",
    "According to this model synaptic current can be described as $I_{syn} = g_{syn}s(V − E_{syn})$, where $V$ is the postsynaptic membrane potential, $E_{syn}$ is the reversal potential of the synaptic current ($E_{syn}=0mV$ for AMPA and NMDA receptor mediated excitatory currents, $E_{syn}=−70mV$ for GABA_A receptor mediated inhibitory current). The gating variable $s$ represents the fraction of open synaptic channels, and obeys a simple first-order kinetics:\n",
    "\n",
    "\\begin{equation}\n",
    "\\frac{ds}{dt} = \\alpha_s \\sum_j \\delta (t - t_i) (1-s) - \\frac{s}{\\tau_s}\n",
    "\\end{equation}\n",
    "\n",
    "where $\\delta (t - t_i)$ is the presynaptic spike train."
   ]
  },
  {
   "cell_type": "markdown",
   "metadata": {},
   "source": [
    "## (a) \n",
    "For a given spike at time $t_j$ we can analytically calculate the fraction of open synaptic channels right before $s(t_j^-)$ and after $s(t_j^+)$ integrating around those values in the previous equation. Before that, we can simplify it if we assume that at the time of the spike $\\delta (t - t_i)>> t \\frac{s}{\\tau_s}$, we can get rid of this second term. Leaving us with the following equation for a given spike:\n",
    "\n",
    "\\begin{equation}\n",
    "\\frac{ds}{1-s} = \\alpha_s \\delta (t - t_i) dt\n",
    "\\end{equation}\n",
    "\n",
    "We can rewrite $1-s$ as $x$ and thus $-ds$ as $dx$:\n",
    "\n",
    "\\begin{equation}\n",
    "\\frac{-dx}{x} = \\alpha_s \\delta (t - t_i) dt\n",
    "\\end{equation}\n",
    "\n",
    "\n",
    "\\begin{equation}\n",
    "log(x)|^{t_j^+}_{t_j^-} = - \\alpha_s \\int^{t_j^+}_{t_j^-}  \\delta (t - t_i) dt = - \\alpha_s \\cdot 1\n",
    "\\end{equation}\n",
    "\n",
    "\\begin{equation}\n",
    "log(1-s(t_j^+) - log(1-s(t_j^-)) = - \\alpha_s \n",
    "\\end{equation}\n",
    "\n",
    "\\begin{equation}\n",
    "log\\frac{1-s(t_j^+)}{1-s(t_j^-)} = - \\alpha_s \n",
    "\\end{equation}\n",
    "\n",
    "\\begin{equation}\n",
    "s(t_j^+) = 1 + (1-s(t_j^-)) e^{-\\alpha_s}\n",
    "\\end{equation}"
   ]
  },
  {
   "cell_type": "markdown",
   "metadata": {},
   "source": [
    "## (b)\n",
    "Between the jth and (j+1)th spike, $s(t) = s(t_j^+) e^{\\frac{-(t-t_j)}{-\\tau_s}}$, therefore $s(t_{j+1}^-) = s(t_j^+) e^{\\frac{-(t_{j+1}-t_j)}{-\\tau_s}}$. If the firing rate is periodic and of frequency $r=\\frac{1}{T}$, we can calculate the steady state after any given spike. The steady state can be defined as:\n",
    "\n",
    "\\begin{equation}\n",
    "s(t_j^-) = s(t_{j+1}^-)\n",
    "\\end{equation}\n",
    "\n",
    "From above:\n",
    "\n",
    "\\begin{equation}\n",
    "s(t_j^+) = 1 + (1-s(t_j^-)) e^{-\\alpha_s}\n",
    "\\end{equation}\n",
    "\n",
    "Rearranging:\n",
    "\n",
    "\\begin{equation}\n",
    "s(t_j^-) = 1 + (s(t_j^+)-1) e^{\\alpha_s}\n",
    "\\end{equation}\n",
    "\n",
    "Also,\n",
    "\n",
    "\\begin{equation}\n",
    "s(t) = s(t_j^+) e^{-\\frac{t-t_j}{\\tau_s}}\n",
    "\\end{equation}\n",
    "\n",
    "Thus,\n",
    "\n",
    "\\begin{equation}\n",
    "s(t_{j+1}^-) = s(t_j^+) e^{-\\frac{t_{j+1}-t_j}{\\tau_s}}\n",
    "\\end{equation}\n",
    "\n",
    "Based on the definition of steady state:\n",
    "\n",
    "\\begin{equation}\n",
    "1 + (s(t_j^+)-1) e^{\\alpha_s} = s(t_j^+) e^{-\\frac{t_{j+1}-t_j}{\\tau_s}}\n",
    "\\end{equation}\n",
    "\n",
    "\\begin{equation}\n",
    "1 + s(t_j^+)e^{\\alpha_s} - e^{\\alpha_s} = s(t_j^+) e^{-\\frac{1}{r\\tau_s}}\n",
    "\\end{equation}\n",
    "\n",
    "\\begin{equation}\n",
    "e^{-\\alpha_s} + s(t_j^+) - 1 = s(t_j^+) e^{-\\frac{1+\\alpha_s}{r\\tau_s}}\n",
    "\\end{equation}\n",
    "\n",
    "\\begin{equation}\n",
    "s(t_j^+)(1 - e^{-\\frac{1+\\alpha_s}{r\\tau_s}} )= 1 - e^{-\\alpha_s} \n",
    "\\end{equation}\n",
    "\n",
    "\\begin{equation}\n",
    "s(t_j^+)= s^+ = \\frac{1 - e^{-\\alpha_s}}{(1 - e^{-\\frac{1+\\alpha_s}{r\\tau_s}} )}\n",
    "\\end{equation}\n",
    "\n",
    "We can further analytically calculate the average $s$ over time as:\n",
    "\n",
    "\\begin{equation}\n",
    "<s> = \\frac{1}{T} \\int_0^Ts(t)dt\n",
    "\\end{equation}\n",
    "    \n",
    "Given that $s(t) = s(t_j^+) e^{-\\frac{t-t_j}{\\tau_s}}$, we can substitute to obtain:\n",
    "\n",
    "\\begin{equation}\n",
    "s(t) = \\frac{1 - e^{-\\alpha_s}}{(1 - e^{-\\frac{1+\\alpha_s}{r\\tau_s}} )} e^{-\\frac{t-t_j}{\\tau_s}}\n",
    "\\end{equation}\n",
    "\n",
    "If we now integrate between to consecutive spikes $t_j$ and $t_{j+1}$:\n",
    "\n",
    "\\begin{equation}\n",
    "\\int_{t_j}^{t_{j+1}} s(t) = \\int_{t_j}^{t_{j+1}} \\frac{1 - e^{-\\alpha_s}}{(1 - e^{-\\frac{1+\\alpha_s}{r\\tau_s}} )} e^{-\\frac{t-t_j}{\\tau_s}} dt\n",
    "\\end{equation}\n",
    "\n",
    "\n",
    "\\begin{align*}\n",
    "\\int_{t_j}^{t_{j+1}} s(t) dt = \\frac{1 - e^{-\\alpha_s}}{(1 - e^{-\\frac{1+\\alpha_s}{r\\tau_s}} )} \\int_{t_j}^{t_{j+1}} e^{-\\frac{t-t_j}{\\tau_s}} dt \\\\\n",
    "& = \\frac{1 - e^{-\\alpha_s}}{(1 - e^{-\\frac{1+\\alpha_s}{r\\tau_s}} )} (-\\tau e^{\\frac{t_j-t}{\\tau_s}}|_{t_j}^{t_{j+1}})\\\\\n",
    "& = \\frac{1 - e^{-\\alpha_s}}{(1 - e^{-\\frac{1+\\alpha_s}{r\\tau_s}} )} -\\tau (  e^{\\frac{t_j-t_{j+1}}{\\tau_s}} -e^{\\frac{t_j-t_j}{\\tau_s}} )\\\\\n",
    "& = \\frac{1 - e^{-\\alpha_s}}{(1 - e^{-\\frac{1+\\alpha_s}{r\\tau_s}} )} -\\tau (  e^{\\frac{T}{\\tau_s}} - 1 )\\\\\n",
    "& = \\frac{1 - e^{-\\alpha_s}}{(1 - e^{-\\frac{1+\\alpha_s}{r\\tau_s}} )} \\tau ( 1 - e^{\\frac{1}{r\\tau_s}} )\n",
    "\\end{align*}\n",
    "\n",
    "Finally, we dived by the inter-spike interval:\n",
    "\n",
    "\n",
    "\\begin{equation}\n",
    "\\frac{1}{T} \\int_{t_j}^{t_{j+1}} s(t) dt = r \\tau ( 1 - e^{\\frac{1}{r\\tau_s}} ) \\frac{1 - e^{-\\alpha_s}}{(1 - e^{-\\frac{1+\\alpha_s}{r\\tau_s}} )}\n",
    "\\end{equation}"
   ]
  },
  {
   "cell_type": "markdown",
   "metadata": {},
   "source": [
    "# (c) \n",
    "We will plot $<s>$ as a function of a range of firing rates $r$ for AMPA $\\tau_{AMPA}=2ms$, GABA_A $\\tau_{GABA_A}=10ms$ and NMDA $\\tau_{NMDA}=100ms$ "
   ]
  },
  {
   "cell_type": "code",
   "execution_count": 1,
   "metadata": {},
   "outputs": [],
   "source": [
    "import numpy as np\n",
    "import math\n",
    "import matplotlib.pyplot as plt"
   ]
  },
  {
   "cell_type": "code",
   "execution_count": 2,
   "metadata": {},
   "outputs": [],
   "source": [
    "r = np.arange(0, 100, 1)\n",
    "tau_AMPA = .002 # in ms\n",
    "tau_GABA = .01 # in ms\n",
    "tau_NMDA = .1 # in ms\n",
    "alpha_s = 1. # in ms\n",
    "\n",
    "def avg_s(r, tau, alpha):\n",
    "    s_avg = []\n",
    "    for i in r:\n",
    "        j = i*tau\n",
    "        if j == 0:\n",
    "            temp = 0\n",
    "        else:\n",
    "            temp = (j*(1-math.exp(-1/j))*(1-math.exp(-alpha))) / (1- math.exp(-(alpha + (1/j))))               \n",
    "        s_avg.append(temp)\n",
    "        \n",
    "    return s_avg\n",
    "\n",
    "sAvg_AMPA = avg_s(r, tau_AMPA, alpha_s)\n",
    "sAvg_GABA = avg_s(r, tau_GABA, alpha_s)\n",
    "sAvg_NMDA = avg_s(r, tau_NMDA, alpha_s)"
   ]
  },
  {
   "cell_type": "code",
   "execution_count": 3,
   "metadata": {
    "scrolled": true
   },
   "outputs": [
    {
     "data": {
      "image/png": "[encoded data removed]",
      "text/plain": [
       "<Figure size 432x288 with 1 Axes>"
      ]
     },
     "metadata": {
      "needs_background": "light"
     },
     "output_type": "display_data"
    }
   ],
   "source": [
    "plt.plot(r, sAvg_AMPA, lw= 3)\n",
    "plt.plot(r, sAvg_GABA, lw= 3)\n",
    "plt.plot(r, sAvg_NMDA, lw= 3)\n",
    "plt.xlabel('r (Hz)')\n",
    "plt.ylabel('<s>')\n",
    "plt.legend(['AMPA', 'GABA', 'NMDA']);"
   ]
  },
  {
   "cell_type": "markdown",
   "metadata": {},
   "source": [
    "From this graph we can see that for large time constants, as shown by NMDA, the number of open channels saturates as we increase the input synaptic rate. Conversly, for low time  constants, shown by AMPA, the number of open channels scales linearly with the input firing rate. This indicates that in the case of a low time constant, the number of open channels goes back to baseline before the next spike arrives. In the case of a high time constant, when a new spike arrives a fraction of the channels opened by the privious spike remained opened, resulting in a supralinear rate of average channel opening as a function of input rate. "
   ]
  },
  {
   "cell_type": "markdown",
   "metadata": {},
   "source": [
    "# (d)\n",
    "We can simplify $\\frac{ds}{dt} = \\alpha_s \\sum_j \\delta (t - t_i) (1-s) - \\frac{s}{\\tau_s}$ by replacing the $\\sum_j \\delta (t - t_i)$ with $r$. If we do, the steady state becomes:\n",
    "\n",
    "\\begin{equation}\n",
    "\\frac{ds}{dt} = 0 = \\alpha_s r (1-s) - \\frac{s}{\\tau_s} = \\alpha_s r - \\alpha_s r s - \\frac{s}{\\tau_s} = \\alpha_s r - s (\\alpha_s r + \\frac{1}{\\tau_s}) \n",
    "\\end{equation}\n",
    "\n",
    "Solving for $s$:\n",
    "\n",
    "\\begin{equation}\n",
    "s = \\frac{ \\alpha_s r }{ \\alpha_s r + \\frac{1}{\\tau_s}  }\n",
    "\\end{equation}"
   ]
  },
  {
   "cell_type": "code",
   "execution_count": 4,
   "metadata": {},
   "outputs": [],
   "source": [
    "def avg_s_aprox(r, tau, alpha):\n",
    "    s_avg = []\n",
    "    for i in r:\n",
    "        j = i*alpha\n",
    "        if j == 0:\n",
    "            temp = 0\n",
    "        else:\n",
    "            temp = j/((1/tau)+ j)               \n",
    "        s_avg.append(temp)\n",
    "        \n",
    "    return s_avg\n",
    "\n",
    "sAvgAprox_AMPA = avg_s_aprox(r, tau_AMPA, alpha_s)\n",
    "sAvgAprox_GABA = avg_s_aprox(r, tau_GABA, alpha_s)\n",
    "sAvgAprox_NMDA = avg_s_aprox(r, tau_NMDA, alpha_s)"
   ]
  },
  {
   "cell_type": "code",
   "execution_count": 5,
   "metadata": {},
   "outputs": [
    {
     "data": {
      "image/png": "[encoded data removed]",
      "text/plain": [
       "<Figure size 432x288 with 1 Axes>"
      ]
     },
     "metadata": {
      "needs_background": "light"
     },
     "output_type": "display_data"
    }
   ],
   "source": [
    "import matplotlib.pyplot as plt\n",
    "cmap = plt.get_cmap(\"tab10\")\n",
    "\n",
    "plt.plot(r, sAvg_AMPA, lw= 3)\n",
    "plt.plot(r, sAvg_GABA, lw= 3)\n",
    "plt.plot(r, sAvg_NMDA, lw= 3)\n",
    "\n",
    "plt.plot([], [], color='k', lw= 3)\n",
    "plt.plot([], [], color='k', ls='--', lw= 2)\n",
    "                    \n",
    "plt.plot(r, sAvgAprox_AMPA, c= cmap(0), ls='--', lw= 3)\n",
    "plt.plot(r, sAvgAprox_GABA, c= cmap(1), ls='--', lw= 3)\n",
    "plt.plot(r, sAvgAprox_NMDA, c= cmap(2), ls='--', lw= 3)\n",
    "plt.xlabel('r (Hz)')\n",
    "plt.ylabel('<s>')\n",
    "plt.legend(['AMPA', 'GABA', 'NMDA', 'exact', 'approx.'], bbox_to_anchor=(1, 1))\n",
    "plt.show()"
   ]
  },
  {
   "cell_type": "markdown",
   "metadata": {},
   "source": [
    "As we can see in the graph, the exact and analytical approximation lead to similar results. Still, the approximation slightly overestimates the average number of opened channels."
   ]
  }
 ],
 "metadata": {
  "kernelspec": {
   "display_name": "Python 3",
   "language": "python",
   "name": "python3"
  },
  "language_info": {
   "codemirror_mode": {
    "name": "ipython",
    "version": 3
   },
   "file_extension": ".py",
   "mimetype": "text/x-python",
   "name": "python",
   "nbconvert_exporter": "python",
   "pygments_lexer": "ipython3",
   "version": "3.7.3"
  }
 },
 "nbformat": 4,
 "nbformat_minor": 2
}
